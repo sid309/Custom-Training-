{
  "nbformat": 4,
  "nbformat_minor": 0,
  "metadata": {
    "colab": {
      "name": "Custom Training Linear Regression.ipynb",
      "provenance": []
    },
    "kernelspec": {
      "name": "python3",
      "display_name": "Python 3"
    },
    "language_info": {
      "name": "python"
    }
  },
  "cells": [
    {
      "cell_type": "code",
      "metadata": {
        "id": "gGPt3OvusnNa"
      },
      "source": [
        "from __future__ import absolute_import,print_function,division,unicode_literals\n",
        "try:\n",
        "  %tensorflow_version 2.x\n",
        "except Exception:\n",
        "  pass"
      ],
      "execution_count": 1,
      "outputs": []
    },
    {
      "cell_type": "code",
      "metadata": {
        "id": "OCNN0dV5t7FD"
      },
      "source": [
        "import tensorflow as tf\n",
        "import numpy as np\n",
        "import matplotlib.pyplot as plt"
      ],
      "execution_count": 2,
      "outputs": []
    },
    {
      "cell_type": "code",
      "metadata": {
        "id": "ZAUnFjAvwrsy"
      },
      "source": [
        "class Model():\n",
        "  def __init__(self):\n",
        "    self.w=tf.Variable(2.0)\n",
        "    self.b=tf.Variable(1.0)\n",
        "  def __call__(self,x):\n",
        "    return self.w*x+self.b"
      ],
      "execution_count": 10,
      "outputs": []
    },
    {
      "cell_type": "code",
      "metadata": {
        "id": "o9v33S37xzTu"
      },
      "source": [
        "model=Model()"
      ],
      "execution_count": 11,
      "outputs": []
    },
    {
      "cell_type": "code",
      "metadata": {
        "id": "TXuone7wx1CL"
      },
      "source": [
        "def loss(y_pred,y_true):\n",
        "  return tf.reduce_mean(tf.square(y_true-y_pred))"
      ],
      "execution_count": 12,
      "outputs": []
    },
    {
      "cell_type": "code",
      "metadata": {
        "id": "feoc4XngJI3d"
      },
      "source": [
        "True_W=3.0\n",
        "True_B=2.0\n",
        "Num=1000\n",
        "xs=tf.random.normal(shape=[Num])\n",
        "ys=True_W*(xs)+True_B"
      ],
      "execution_count": 13,
      "outputs": []
    },
    {
      "cell_type": "code",
      "metadata": {
        "id": "kh4iLeOGJdz9"
      },
      "source": [
        "def plot_data(inputs,outputs,predicted_outputs):\n",
        "  real=plt.scatter(inputs,outputs,c='r',marker='.')\n",
        "  predicted=plt.scatter(inputs,predicted_outputs,c='b',marker='+')\n",
        "  plt.legend((real,predicted), ('Real Data', 'Predicted Data'))\n",
        "  plt.show()"
      ],
      "execution_count": 14,
      "outputs": []
    },
    {
      "cell_type": "code",
      "metadata": {
        "colab": {
          "base_uri": "https://localhost:8080/",
          "height": 283
        },
        "id": "UyDUQQdDKEja",
        "outputId": "76c05b5c-5b46-4457-a64a-1dd59c899702"
      },
      "source": [
        "plot_data(xs, ys, model(xs))\n",
        "print('Current loss: %1.6f' % loss(model(xs), ys).numpy())"
      ],
      "execution_count": 15,
      "outputs": [
        {
          "output_type": "display_data",
          "data": {
            "image/png": "[encoded data removed]",
            "text/plain": [
              "<Figure size 432x288 with 1 Axes>"
            ]
          },
          "metadata": {
            "needs_background": "light"
          }
        },
        {
          "output_type": "stream",
          "text": [
            "Current loss: 2.067403\n"
          ],
          "name": "stdout"
        }
      ]
    },
    {
      "cell_type": "code",
      "metadata": {
        "id": "UT443nYBKKYh"
      },
      "source": [
        "def train(model,inputs,outputs,lr):\n",
        "  with tf.GradientTape() as t:\n",
        "    current_loss=loss(model(inputs),outputs)\n",
        "    dw,db=t.gradient(current_loss,[model.w,model.b])\n",
        "    model.w.assign_sub(lr*dw)\n",
        "    model.b.assign_sub(lr*db)\n",
        "  \n",
        "  return current_loss"
      ],
      "execution_count": 16,
      "outputs": []
    },
    {
      "cell_type": "code",
      "metadata": {
        "colab": {
          "base_uri": "https://localhost:8080/"
        },
        "id": "Ulkb7dSoOzhm",
        "outputId": "4ec4ae09-02c1-4eb0-a61a-ff1affe0ba4c"
      },
      "source": [
        "model=Model()\n",
        "list_w,list_b=[],[]\n",
        "epochs=range(15)\n",
        "losses=[]\n",
        "for epoch in epochs:\n",
        "  list_w.append(model.w.numpy())\n",
        "  list_b.append(model.b.numpy())\n",
        "  current_loss=train(model,xs,ys,0.1)\n",
        "  losses.append(current_loss)\n",
        "  print('Epoch %2d: w=%1.2f b=%1.2f, loss=%2.5f'%(epoch,list_w[-1],list_b[-1],current_loss))"
      ],
      "execution_count": 35,
      "outputs": [
        {
          "output_type": "stream",
          "text": [
            "Epoch  0: w=2.00 b=1.00, loss=2.06740\n",
            "Epoch  1: w=2.21 b=1.20, loss=1.30046\n",
            "Epoch  2: w=2.38 b=1.36, loss=0.81821\n",
            "Epoch  3: w=2.51 b=1.49, loss=0.51490\n",
            "Epoch  4: w=2.62 b=1.59, loss=0.32410\n",
            "Epoch  5: w=2.70 b=1.67, loss=0.20405\n",
            "Epoch  6: w=2.76 b=1.74, loss=0.12849\n",
            "Epoch  7: w=2.81 b=1.79, loss=0.08093\n",
            "Epoch  8: w=2.85 b=1.83, loss=0.05099\n",
            "Epoch  9: w=2.88 b=1.87, loss=0.03213\n",
            "Epoch 10: w=2.91 b=1.89, loss=0.02025\n",
            "Epoch 11: w=2.93 b=1.92, loss=0.01277\n",
            "Epoch 12: w=2.94 b=1.93, loss=0.00805\n",
            "Epoch 13: w=2.96 b=1.95, loss=0.00508\n",
            "Epoch 14: w=2.96 b=1.96, loss=0.00320\n"
          ],
          "name": "stdout"
        }
      ]
    },
    {
      "cell_type": "code",
      "metadata": {
        "colab": {
          "base_uri": "https://localhost:8080/",
          "height": 265
        },
        "id": "-lk4Zjt2PYfK",
        "outputId": "90ba6abc-7507-4196-dd52-205feb8d1584"
      },
      "source": [
        "plt.plot(epochs, list_w, 'r',\n",
        "       epochs, list_b, 'b')\n",
        "plt.plot([True_W] * len(epochs), 'r--',\n",
        "      [True_B] * len(epochs), 'b--')\n",
        "plt.legend(['w', 'b', 'True w', 'True b'])\n",
        "plt.show()"
      ],
      "execution_count": 39,
      "outputs": [
        {
          "output_type": "display_data",
          "data": {
            "image/png": "[encoded data removed]",
            "text/plain": [
              "<Figure size 432x288 with 1 Axes>"
            ]
          },
          "metadata": {
            "needs_background": "light"
          }
        }
      ]
    },
    {
      "cell_type": "code",
      "metadata": {
        "colab": {
          "base_uri": "https://localhost:8080/",
          "height": 265
        },
        "id": "cRwqTFJAPerY",
        "outputId": "6a7cb8dd-5a22-40dd-82e0-098ca34f7d0d"
      },
      "source": [
        "test_inputs  = tf.random.normal(shape=[Num])\n",
        "test_outputs = test_inputs * True_W + True_B\n",
        "\n",
        "predicted_test_outputs = model(test_inputs)\n",
        "plot_data(test_inputs, test_outputs, predicted_test_outputs)"
      ],
      "execution_count": 40,
      "outputs": [
        {
          "output_type": "display_data",
          "data": {
            "image/png": "[encoded data removed]",
            "text/plain": [
              "<Figure size 432x288 with 1 Axes>"
            ]
          },
          "metadata": {
            "needs_background": "light"
          }
        }
      ]
    },
    {
      "cell_type": "code",
      "metadata": {
        "colab": {
          "base_uri": "https://localhost:8080/",
          "height": 279
        },
        "id": "FbuvNfu-Py6h",
        "outputId": "86340006-5348-49c7-efa7-e046fc3ff904"
      },
      "source": [
        "def plot_loss_for_weights(weights_list, losses):\n",
        "  for idx, weights in enumerate(weights_list):\n",
        "    plt.subplot(120 + idx + 1)\n",
        "    plt.plot(weights['values'], losses, 'r')\n",
        "    plt.plot(weights['values'], losses, 'bo')\n",
        "    plt.xlabel(weights['name'])\n",
        "    plt.ylabel('Loss')       \n",
        "weights_list = [{ 'name' : \"w\",\n",
        "                  'values' : list_w\n",
        "                },\n",
        "                {\n",
        "                  'name' : \"b\",\n",
        "                  'values' : list_b\n",
        "                }]\n",
        "plot_loss_for_weights(weights_list, losses)"
      ],
      "execution_count": 41,
      "outputs": [
        {
          "output_type": "display_data",
          "data": {
            "image/png": "[encoded data removed]",
            "text/plain": [
              "<Figure size 432x288 with 2 Axes>"
            ]
          },
          "metadata": {
            "needs_background": "light"
          }
        }
      ]
    },
    {
      "cell_type": "code",
      "metadata": {
        "id": "2gL4d-FqP7u3"
      },
      "source": [
        ""
      ],
      "execution_count": null,
      "outputs": []
    }
  ]
}