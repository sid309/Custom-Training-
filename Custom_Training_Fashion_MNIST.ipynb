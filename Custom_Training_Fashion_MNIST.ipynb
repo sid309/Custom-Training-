{
  "nbformat": 4,
  "nbformat_minor": 0,
  "metadata": {
    "colab": {
      "name": "Custom Training Fashion_MNIST.ipynb",
      "provenance": []
    },
    "kernelspec": {
      "name": "python3",
      "display_name": "Python 3"
    },
    "language_info": {
      "name": "python"
    }
  },
  "cells": [
    {
      "cell_type": "code",
      "metadata": {
        "id": "6YseGPohjbZ0"
      },
      "source": [
        "try:\n",
        "  %tensorflow_version 2.x\n",
        "except Exception:\n",
        "  pass\n",
        "import tensorflow as tf\n",
        "from tensorflow import keras\n",
        "from tensorflow.keras.models import Model\n",
        "from tensorflow.keras.layers import Dense,Input\n",
        "import numpy as np\n",
        "import matplotlib.pyplot as plt\n",
        "import pandas as pd\n",
        "from sklearn.model_selection import train_test_split\n",
        "from sklearn.metrics import confusion_matrix\n",
        "import itertools\n",
        "from tqdm import tqdm\n",
        "import tensorflow_datasets as tfds\n",
        "import matplotlib.ticker as mticker"
      ],
      "execution_count": 60,
      "outputs": []
    },
    {
      "cell_type": "code",
      "metadata": {
        "id": "xMsg1M22uUOJ"
      },
      "source": [
        "train_data, info = tfds.load(\"fashion_mnist\", split = \"train\", with_info = True, data_dir='./data/', download=True)\n",
        "test_data = tfds.load(\"fashion_mnist\", split = \"test\", data_dir='./data/', download=True)"
      ],
      "execution_count": 61,
      "outputs": []
    },
    {
      "cell_type": "code",
      "metadata": {
        "id": "TA-grALzulqZ"
      },
      "source": [
        "class_names = [\"T-shirt/top\", \"Trouser/pants\", \"Pullover shirt\", \"Dress\", \"Coat\", \"Sandal\", \"Shirt\", \"Sneaker\", \"Bag\", \"Ankle boot\"]"
      ],
      "execution_count": 62,
      "outputs": []
    },
    {
      "cell_type": "code",
      "metadata": {
        "id": "zUOOYWPKuwvv"
      },
      "source": [
        "def format_image(data):\n",
        "  image=data['image']\n",
        "  image=tf.reshape(image,[-1])\n",
        "  image=tf.cast(image,dtype='float32')\n",
        "  image=image/255.0\n",
        "  return image,data['label']"
      ],
      "execution_count": 63,
      "outputs": []
    },
    {
      "cell_type": "code",
      "metadata": {
        "id": "vcrk3J3xwOMp"
      },
      "source": [
        "train_data=train_data.map(format_image)\n",
        "test_data=test_data.map(format_image)"
      ],
      "execution_count": 64,
      "outputs": []
    },
    {
      "cell_type": "code",
      "metadata": {
        "id": "nZ3t2goYDnaK"
      },
      "source": [
        "batch_size=64\n",
        "train=train_data.shuffle(buffer_size=1024).batch(batch_size)\n",
        "test=test_data.batch(batch_size=batch_size)"
      ],
      "execution_count": 74,
      "outputs": []
    },
    {
      "cell_type": "code",
      "metadata": {
        "id": "OdtzDc1iD80g"
      },
      "source": [
        "def base_model():\n",
        "  inputs=tf.keras.layers.Input(shape=(784,))\n",
        "  x=tf.keras.layers.Dense(64,activation='relu')(inputs)\n",
        "  x=tf.keras.layers.Dense(64,activation='relu')(x)\n",
        "  outputs=tf.keras.layers.Dense(10,activation='softmax',name='predictions')(x)\n",
        "  model=tf.keras.Model(inputs=inputs,outputs=outputs)\n",
        "  return model"
      ],
      "execution_count": 75,
      "outputs": []
    },
    {
      "cell_type": "code",
      "metadata": {
        "id": "lMo_xtH6E7Qm"
      },
      "source": [
        "optimizer=tf.keras.optimizers.Adam()\n",
        "loss_object=tf.keras.losses.SparseCategoricalCrossentropy()"
      ],
      "execution_count": 76,
      "outputs": []
    },
    {
      "cell_type": "code",
      "metadata": {
        "id": "ieXmoaGnFEV3"
      },
      "source": [
        "train_acc_metric=tf.keras.metrics.SparseCategoricalAccuracy()\n",
        "val_acc_metric=tf.keras.metrics.SparseCategoricalAccuracy()"
      ],
      "execution_count": 77,
      "outputs": []
    },
    {
      "cell_type": "code",
      "metadata": {
        "id": "HPbjIwd_FU8Y"
      },
      "source": [
        "def apply_gradient(optimizer,model,x,y):\n",
        "  with tf.GradientTape() as t:\n",
        "\n",
        "    logits=model(x)\n",
        "    loss_value=loss_object(y,logits)\n",
        "  gradients=t.gradient(loss_value,model.trainable_weights)\n",
        "  optimizer.apply_gradients(zip(gradients,model.trainable_weights))\n",
        "  return logits,loss_value"
      ],
      "execution_count": 78,
      "outputs": []
    },
    {
      "cell_type": "code",
      "metadata": {
        "id": "U7HarS2rGKmm"
      },
      "source": [
        "def train_per_epoch():\n",
        "  losses=[]\n",
        "  pbar= tqdm(total=len(list(enumerate(train))), position=0, leave=True, bar_format='{l_bar}{bar}| {n_fmt}/{total_fmt} ')\n",
        "  for step,(x_batch_train,y_batch_train) in enumerate(train):\n",
        "    logits,loss_value=apply_gradient(optimizer,model,x_batch_train,y_batch_train)\n",
        "    losses.append(loss_value)\n",
        "    train_acc_metric(y_batch_train,logits)\n",
        "    pbar.set_description(\"Training loss for step %s: %.4f\" % (int(step), float(loss_value)))\n",
        "    pbar.update()\n",
        "  return losses"
      ],
      "execution_count": 79,
      "outputs": []
    },
    {
      "cell_type": "code",
      "metadata": {
        "id": "aMqbLoWuHf2M"
      },
      "source": [
        "def validation():\n",
        "  losses=[]\n",
        "  for x_val,y_val in test:\n",
        "    val_logits=model(x_val)\n",
        "    val_loss=loss_object(y_true=y_val,y_pred=val_logits)\n",
        "    losses.append(val_loss)\n",
        "    val_acc_metric(y_val,val_logits)\n",
        "  return losses"
      ],
      "execution_count": 80,
      "outputs": []
    },
    {
      "cell_type": "code",
      "metadata": {
        "id": "pX7Qksj2JJFf"
      },
      "source": [
        "model=base_model()\n",
        "epochs=10\n",
        "epoch_val_losses,epoch_train_losses=[],[]"
      ],
      "execution_count": 84,
      "outputs": []
    },
    {
      "cell_type": "code",
      "metadata": {
        "colab": {
          "base_uri": "https://localhost:8080/"
        },
        "id": "g1o0TefOJdAq",
        "outputId": "0e39380d-9e6f-451a-aace-caf09aac90c3"
      },
      "source": [
        "for epoch in range(epochs):\n",
        "  print('Start of epoch %d' % (epoch))\n",
        "  losses_train=train_per_epoch()\n",
        "  train_accuracy=train_acc_metric.result()\n",
        "  losses_val=validation()\n",
        "  val_accuracy=val_acc_metric.result()\n",
        "  losses_train_mean=np.mean(losses_train)\n",
        "  loss_val_mean=np.mean(losses_val)\n",
        "  epoch_val_losses.append(loss_val_mean)\n",
        "  epoch_train_losses.append(losses_train_mean)\n",
        "  print('\\n Epoch %s: Train loss: %.4f  Validation Loss: %.4f, Train Accuracy: %.4f, Validation Accuracy %.4f' % (epoch, float(losses_train_mean), float(loss_val_mean), float(train_accuracy), float(val_accuracy)))\n",
        "  train_acc_metric.reset_states()\n",
        "  val_acc_metric.reset_states()"
      ],
      "execution_count": 86,
      "outputs": [
        {
          "output_type": "stream",
          "text": [
            "Start of epoch 0\n"
          ],
          "name": "stdout"
        },
        {
          "output_type": "stream",
          "text": [
            "  0%|          | 0/157 \n",
            "  0%|          | 0/157 \n",
            "  0%|          | 0/157 \n",
            "  0%|          | 0/157 \n",
            "Training loss for step 937: 0.3467: 100%|██████████| 938/938 \n",
            "Training loss for step 937: 0.2234: 100%|██████████| 938/938 \n",
            "Training loss for step 937: 0.4906: 100%|██████████| 938/938 \n"
          ],
          "name": "stderr"
        },
        {
          "output_type": "stream",
          "text": [
            "\n",
            " Epoch 0: Train loss: 0.3687  Validation Loss: 0.3891, Train Accuracy: 0.8407, Validation Accuracy 0.8534\n",
            "Start of epoch 1\n"
          ],
          "name": "stdout"
        },
        {
          "output_type": "stream",
          "text": [
            "Training loss for step 937: 0.3186: 100%|█████████▉| 937/938 "
          ],
          "name": "stderr"
        },
        {
          "output_type": "stream",
          "text": [
            "\n",
            " Epoch 1: Train loss: 0.3362  Validation Loss: 0.3653, Train Accuracy: 0.8765, Validation Accuracy 0.8692\n",
            "Start of epoch 2\n"
          ],
          "name": "stdout"
        },
        {
          "output_type": "stream",
          "text": [
            "Training loss for step 937: 0.3186: 100%|██████████| 938/938 \n",
            "Training loss for step 937: 0.3011: 100%|██████████| 938/938 \n"
          ],
          "name": "stderr"
        },
        {
          "output_type": "stream",
          "text": [
            "\n",
            " Epoch 2: Train loss: 0.3176  Validation Loss: 0.3670, Train Accuracy: 0.8841, Validation Accuracy 0.8708\n",
            "Start of epoch 3\n"
          ],
          "name": "stdout"
        },
        {
          "output_type": "stream",
          "text": [
            "Training loss for step 937: 0.2432: 100%|█████████▉| 937/938 "
          ],
          "name": "stderr"
        },
        {
          "output_type": "stream",
          "text": [
            "\n",
            " Epoch 3: Train loss: 0.3020  Validation Loss: 0.3554, Train Accuracy: 0.8892, Validation Accuracy 0.8711\n",
            "Start of epoch 4\n"
          ],
          "name": "stdout"
        },
        {
          "output_type": "stream",
          "text": [
            "Training loss for step 937: 0.2432: 100%|██████████| 938/938 \n",
            "Training loss for step 937: 0.3259: 100%|█████████▉| 937/938 "
          ],
          "name": "stderr"
        },
        {
          "output_type": "stream",
          "text": [
            "\n",
            " Epoch 4: Train loss: 0.2907  Validation Loss: 0.3701, Train Accuracy: 0.8925, Validation Accuracy 0.8676\n",
            "Start of epoch 5\n"
          ],
          "name": "stdout"
        },
        {
          "output_type": "stream",
          "text": [
            "Training loss for step 937: 0.3259: 100%|██████████| 938/938 \n",
            "Training loss for step 937: 0.2559: 100%|██████████| 938/938 \n"
          ],
          "name": "stderr"
        },
        {
          "output_type": "stream",
          "text": [
            "\n",
            " Epoch 5: Train loss: 0.2820  Validation Loss: 0.3525, Train Accuracy: 0.8963, Validation Accuracy 0.8720\n",
            "Start of epoch 6\n"
          ],
          "name": "stdout"
        },
        {
          "output_type": "stream",
          "text": [
            "Training loss for step 937: 0.2568: 100%|█████████▉| 937/938 "
          ],
          "name": "stderr"
        },
        {
          "output_type": "stream",
          "text": [
            "\n",
            " Epoch 6: Train loss: 0.2734  Validation Loss: 0.3411, Train Accuracy: 0.8986, Validation Accuracy 0.8783\n",
            "Start of epoch 7\n"
          ],
          "name": "stdout"
        },
        {
          "output_type": "stream",
          "text": [
            "Training loss for step 937: 0.2568: 100%|██████████| 938/938 \n",
            "Training loss for step 937: 0.1162: 100%|█████████▉| 937/938 "
          ],
          "name": "stderr"
        },
        {
          "output_type": "stream",
          "text": [
            "\n",
            " Epoch 7: Train loss: 0.2634  Validation Loss: 0.3444, Train Accuracy: 0.9025, Validation Accuracy 0.8776\n",
            "Start of epoch 8\n"
          ],
          "name": "stdout"
        },
        {
          "output_type": "stream",
          "text": [
            "Training loss for step 937: 0.1162: 100%|██████████| 938/938 \n",
            "Training loss for step 937: 0.2972: 100%|██████████| 938/938 \n"
          ],
          "name": "stderr"
        },
        {
          "output_type": "stream",
          "text": [
            "\n",
            " Epoch 8: Train loss: 0.2590  Validation Loss: 0.3554, Train Accuracy: 0.9038, Validation Accuracy 0.8756\n",
            "Start of epoch 9\n"
          ],
          "name": "stdout"
        },
        {
          "output_type": "stream",
          "text": [
            "Training loss for step 937: 0.4864: 100%|█████████▉| 937/938 "
          ],
          "name": "stderr"
        },
        {
          "output_type": "stream",
          "text": [
            "\n",
            " Epoch 9: Train loss: 0.2510  Validation Loss: 0.3461, Train Accuracy: 0.9068, Validation Accuracy 0.8778\n"
          ],
          "name": "stdout"
        }
      ]
    },
    {
      "cell_type": "code",
      "metadata": {
        "colab": {
          "base_uri": "https://localhost:8080/",
          "height": 281
        },
        "id": "jtb_EYtQKknC",
        "outputId": "5b58af05-6b92-48de-cd58-b8e8e191a795"
      },
      "source": [
        "def plot_metrics(train_metric, val_metric, metric_name, title, ylim=5):\n",
        "  plt.title(title)\n",
        "  plt.ylim(0,ylim)\n",
        "  plt.gca().xaxis.set_major_locator(mticker.MultipleLocator(1))\n",
        "  plt.plot(train_metric,color='blue',label=metric_name)\n",
        "  plt.plot(val_metric,color='green',label='val_' + metric_name)\n",
        "\n",
        "plot_metrics(epoch_train_losses, epoch_val_losses, \"Loss\", \"Loss\", ylim=1.0)"
      ],
      "execution_count": 87,
      "outputs": [
        {
          "output_type": "display_data",
          "data": {
            "image/png": "[encoded data removed]",
            "text/plain": [
              "<Figure size 432x288 with 1 Axes>"
            ]
          },
          "metadata": {
            "needs_background": "light"
          }
        }
      ]
    },
    {
      "cell_type": "code",
      "metadata": {
        "id": "GBOKfZ93O94A"
      },
      "source": [
        "def display_images(image, predictions, labels, title, n):\n",
        "\n",
        "  display_strings = [str(i) + \"\\n\\n\" + str(j) for i, j in zip(predictions, labels)] \n",
        "\n",
        "  plt.figure(figsize=(17,3))\n",
        "  plt.title(title)\n",
        "  plt.yticks([])\n",
        "  plt.xticks([28*x+14 for x in range(n)], display_strings)\n",
        "  plt.grid(None)\n",
        "  image = np.reshape(image, [n, 28, 28])\n",
        "  image = np.swapaxes(image, 0, 1)\n",
        "  image = np.reshape(image, [28, 28*n])\n",
        "  plt.imshow(image)"
      ],
      "execution_count": 88,
      "outputs": []
    },
    {
      "cell_type": "code",
      "metadata": {
        "colab": {
          "base_uri": "https://localhost:8080/",
          "height": 200
        },
        "id": "iTB2IGFjPALE",
        "outputId": "6ecc7746-a71e-439c-cfc9-195d5c771e4c"
      },
      "source": [
        "test_inputs = test_data.batch(batch_size=1000001)\n",
        "x_batches, y_pred_batches, y_true_batches = [], [], []\n",
        "\n",
        "for x, y in test_inputs:\n",
        "  y_pred = model(x)\n",
        "  y_pred_batches = y_pred.numpy()\n",
        "  y_true_batches = y.numpy()\n",
        "  x_batches = x.numpy()\n",
        "\n",
        "indexes = np.random.choice(len(y_pred_batches), size=10)\n",
        "images_to_plot = x_batches[indexes]\n",
        "y_pred_to_plot = y_pred_batches[indexes]\n",
        "y_true_to_plot = y_true_batches[indexes]\n",
        "\n",
        "y_pred_labels = [class_names[np.argmax(sel_y_pred)] for sel_y_pred in y_pred_to_plot]\n",
        "y_true_labels = [class_names[sel_y_true] for sel_y_true in y_true_to_plot]\n",
        "display_images(images_to_plot, y_pred_labels, y_true_labels, \"Predicted and True Values\", 10)"
      ],
      "execution_count": 89,
      "outputs": [
        {
          "output_type": "stream",
          "text": [
            "\rTraining loss for step 937: 0.4864: 100%|██████████| 938/938 "
          ],
          "name": "stderr"
        },
        {
          "output_type": "display_data",
          "data": {
            "image/png": "[encoded data removed]",
            "text/plain": [
              "<Figure size 1224x216 with 1 Axes>"
            ]
          },
          "metadata": {
            "needs_background": "light"
          }
        }
      ]
    },
    {
      "cell_type": "code",
      "metadata": {
        "id": "MSVwJuYtPcUV"
      },
      "source": [
        ""
      ],
      "execution_count": null,
      "outputs": []
    }
  ]
}